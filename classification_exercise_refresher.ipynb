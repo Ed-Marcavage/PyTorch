{
  "nbformat": 4,
  "nbformat_minor": 0,
  "metadata": {
    "colab": {
      "provenance": [],
      "authorship_tag": "ABX9TyPzBqzcARL24MBSGKltveJU",
      "include_colab_link": true
    },
    "kernelspec": {
      "name": "python3",
      "display_name": "Python 3"
    },
    "language_info": {
      "name": "python"
    }
  },
  "cells": [
    {
      "cell_type": "markdown",
      "metadata": {
        "id": "view-in-github",
        "colab_type": "text"
      },
      "source": [
        "<a href=\"https://colab.research.google.com/github/Ed-Marcavage/PyTorch/blob/main/classification_exercise_refresher.ipynb\" target=\"_parent\"><img src=\"https://colab.research.google.com/assets/colab-badge.svg\" alt=\"Open In Colab\"/></a>"
      ]
    },
    {
      "cell_type": "code",
      "execution_count": 80,
      "metadata": {
        "id": "JHo4EYdh2oaB"
      },
      "outputs": [],
      "source": [
        "from sklearn.datasets import make_moons\n",
        "\n",
        "# Make 1000 samples\n",
        "n_samples = 1000\n",
        "\n",
        "# Create circles\n",
        "X, y = make_moons(n_samples, random_state=42)"
      ]
    },
    {
      "cell_type": "code",
      "source": [
        "import torch\n",
        "\n",
        "X = torch.from_numpy(X).type(torch.float)\n",
        "y = torch.from_numpy(y).type(torch.float)\n",
        "\n",
        "# View the first five samples\n",
        "X[:5], y[:5]"
      ],
      "metadata": {
        "colab": {
          "base_uri": "https://localhost:8080/"
        },
        "id": "6r3RVahY3PyY",
        "outputId": "b784fd23-fd6a-467d-862f-7c2f18edb28e"
      },
      "execution_count": 81,
      "outputs": [
        {
          "output_type": "execute_result",
          "data": {
            "text/plain": [
              "(tensor([[ 0.0087,  0.3682],\n",
              "         [ 0.9214, -0.4969],\n",
              "         [ 0.9402, -0.4982],\n",
              "         [ 0.4659, -0.3454],\n",
              "         [-0.8504,  0.5261]]),\n",
              " tensor([1., 1., 1., 1., 0.]))"
            ]
          },
          "metadata": {},
          "execution_count": 81
        }
      ]
    },
    {
      "cell_type": "code",
      "source": [
        "# Split data into train and test sets\n",
        "from sklearn.model_selection import train_test_split\n",
        "\n",
        "X_train, X_test, y_train, y_test = train_test_split(X,\n",
        "                                                    y,\n",
        "                                                    test_size=0.2, # 20% test, 80% train\n",
        "                                                    random_state=42) # make the random split reproducible\n",
        "\n",
        "len(X_train), len(X_test), len(y_train), len(y_test)"
      ],
      "metadata": {
        "id": "wUt6lsYr3P03",
        "colab": {
          "base_uri": "https://localhost:8080/"
        },
        "outputId": "84411579-913b-4fd1-9768-ac0c1e4082da"
      },
      "execution_count": 82,
      "outputs": [
        {
          "output_type": "execute_result",
          "data": {
            "text/plain": [
              "(800, 200, 800, 200)"
            ]
          },
          "metadata": {},
          "execution_count": 82
        }
      ]
    },
    {
      "cell_type": "code",
      "source": [
        "# Standard PyTorch imports\n",
        "import torch\n",
        "from torch import nn\n",
        "\n",
        "# Make device agnostic code\n",
        "device = \"cuda\" if torch.cuda.is_available() else \"cpu\"\n",
        "device"
      ],
      "metadata": {
        "id": "DLSzoCoZ3P3H",
        "colab": {
          "base_uri": "https://localhost:8080/",
          "height": 35
        },
        "outputId": "f29d049b-c9cf-45da-d354-87c858156622"
      },
      "execution_count": 83,
      "outputs": [
        {
          "output_type": "execute_result",
          "data": {
            "text/plain": [
              "'cpu'"
            ],
            "application/vnd.google.colaboratory.intrinsic+json": {
              "type": "string"
            }
          },
          "metadata": {},
          "execution_count": 83
        }
      ]
    },
    {
      "cell_type": "code",
      "source": [
        "# model_0 = nn.Sequential(\n",
        "#     nn.Linear(in_features=2, out_features=5),\n",
        "#     nn.Linear(in_features=5, out_features=1)\n",
        "# ).to(device)\n",
        "\n",
        "# model_0\n",
        "\n",
        "class warmUpModelv0(nn.Module):\n",
        "  def __init__(self):\n",
        "    super().__init__()\n",
        "\n",
        "    self.layer_one = nn.Linear(in_features=2, out_features=10) # takes in 2 features (X), UPSCALES to 5 features\n",
        "    self.layer_two = nn.Linear(in_features=10, out_features=10) # takes in 2 features (X), UPSCALES to 5 features\n",
        "    self.layer_three = nn.Linear(in_features=10, out_features=10) # takes in 2 features (X), UPSCALES to 5 features\n",
        "    self.layer_four = nn.Linear(in_features=10, out_features=1) # takes in 5 features, produces 1 feature (y)\n",
        "\n",
        "  def forward(self,x):\n",
        "    return self.layer_four(self.layer_three(self.layer_two(self.layer_one(x))))\n",
        "\n",
        "# 4. Create an instance of the model and send it to target device\n",
        "model_0 = warmUpModelv0().to(device)\n",
        "model_0"
      ],
      "metadata": {
        "id": "Ik7Ackz03P5g",
        "colab": {
          "base_uri": "https://localhost:8080/"
        },
        "outputId": "4b911edc-e971-42c6-b4a0-9aaae7c3e157"
      },
      "execution_count": 84,
      "outputs": [
        {
          "output_type": "execute_result",
          "data": {
            "text/plain": [
              "warmUpModelv0(\n",
              "  (layer_one): Linear(in_features=2, out_features=10, bias=True)\n",
              "  (layer_two): Linear(in_features=10, out_features=10, bias=True)\n",
              "  (layer_three): Linear(in_features=10, out_features=10, bias=True)\n",
              "  (layer_four): Linear(in_features=10, out_features=1, bias=True)\n",
              ")"
            ]
          },
          "metadata": {},
          "execution_count": 84
        }
      ]
    },
    {
      "cell_type": "code",
      "source": [
        "model_0.state_dict()"
      ],
      "metadata": {
        "id": "rWSFupxcjCZJ",
        "colab": {
          "base_uri": "https://localhost:8080/"
        },
        "outputId": "eb98e602-212b-40ce-d651-0e4ca7aabece"
      },
      "execution_count": 85,
      "outputs": [
        {
          "output_type": "execute_result",
          "data": {
            "text/plain": [
              "OrderedDict([('layer_one.weight',\n",
              "              tensor([[ 0.5406,  0.5869],\n",
              "                      [-0.1657,  0.6496],\n",
              "                      [-0.1549,  0.1427],\n",
              "                      [-0.3443,  0.4153],\n",
              "                      [ 0.6233, -0.5188],\n",
              "                      [ 0.6146,  0.1323],\n",
              "                      [ 0.5224,  0.0958],\n",
              "                      [ 0.3410, -0.0998],\n",
              "                      [ 0.5451,  0.1045],\n",
              "                      [-0.3301,  0.1802]])),\n",
              "             ('layer_one.bias',\n",
              "              tensor([-0.3258, -0.0829, -0.2872,  0.4691, -0.5582, -0.3260, -0.1997, -0.4252,\n",
              "                       0.0667, -0.6984])),\n",
              "             ('layer_two.weight',\n",
              "              tensor([[ 0.2856, -0.2686,  0.2441,  0.0526, -0.1027,  0.1954,  0.0493,  0.2555,\n",
              "                        0.0346, -0.0997],\n",
              "                      [ 0.0850, -0.0858,  0.1331,  0.2823,  0.1828, -0.1382,  0.1825,  0.0566,\n",
              "                        0.1606, -0.1927],\n",
              "                      [-0.3130, -0.1222, -0.2426,  0.2595,  0.0911,  0.1310,  0.1000, -0.0055,\n",
              "                        0.2475, -0.2247],\n",
              "                      [ 0.0199, -0.2158,  0.0975, -0.1089,  0.0969, -0.0659,  0.2623, -0.1874,\n",
              "                       -0.1886, -0.1886],\n",
              "                      [ 0.2844,  0.1054,  0.3043, -0.2610, -0.3137, -0.2474, -0.2127,  0.1281,\n",
              "                        0.1132,  0.2628],\n",
              "                      [-0.1633, -0.2156,  0.1678, -0.1278,  0.1919, -0.0750,  0.1809, -0.2457,\n",
              "                       -0.1596,  0.0964],\n",
              "                      [ 0.0669, -0.0806,  0.1885,  0.2150, -0.2293, -0.1688,  0.2896, -0.1067,\n",
              "                       -0.1121, -0.3060],\n",
              "                      [-0.1811,  0.0790, -0.0417, -0.2295,  0.0074, -0.2160, -0.2683, -0.1741,\n",
              "                       -0.2768, -0.2014],\n",
              "                      [ 0.3161,  0.0597,  0.0974, -0.2949, -0.2077, -0.1053,  0.0494, -0.2783,\n",
              "                       -0.1363, -0.1893],\n",
              "                      [ 0.0009, -0.1177, -0.0219, -0.2143, -0.2171, -0.1845, -0.1082, -0.2496,\n",
              "                        0.2651, -0.0628]])),\n",
              "             ('layer_two.bias',\n",
              "              tensor([ 0.2721,  0.0985, -0.2678,  0.2188, -0.0870, -0.1212, -0.2625, -0.3144,\n",
              "                       0.0905, -0.0691])),\n",
              "             ('layer_three.weight',\n",
              "              tensor([[ 0.1231, -0.2595,  0.2348, -0.2321, -0.0546,  0.0661,  0.1633,  0.2553,\n",
              "                        0.2881, -0.2507],\n",
              "                      [ 0.0796, -0.1360, -0.0347, -0.2367,  0.2880, -0.2321,  0.1690,  0.1111,\n",
              "                        0.1028, -0.1710],\n",
              "                      [ 0.2874,  0.0695,  0.0407, -0.2787,  0.1327, -0.0474, -0.1449,  0.2716,\n",
              "                        0.0705, -0.1750],\n",
              "                      [-0.1601, -0.0151,  0.1766, -0.0808, -0.1804, -0.1083, -0.2362,  0.1128,\n",
              "                        0.2448, -0.2977],\n",
              "                      [ 0.0734,  0.1634,  0.0573, -0.1126,  0.1651,  0.1662,  0.1182, -0.0556,\n",
              "                       -0.0837,  0.0338],\n",
              "                      [-0.0559, -0.0942,  0.2021,  0.2718, -0.0313, -0.0708,  0.0046, -0.0189,\n",
              "                        0.0760,  0.0886],\n",
              "                      [-0.2872, -0.1167,  0.2663,  0.1232, -0.0157, -0.1907, -0.1935, -0.2833,\n",
              "                       -0.1031,  0.1068],\n",
              "                      [ 0.2016,  0.1460, -0.2795, -0.1902, -0.0499,  0.3059,  0.0457, -0.0819,\n",
              "                        0.1308, -0.1204],\n",
              "                      [-0.2047,  0.2308, -0.1438, -0.0634, -0.3146,  0.2116,  0.2396,  0.1152,\n",
              "                       -0.2205, -0.3121],\n",
              "                      [-0.2568,  0.2358,  0.1518,  0.2661,  0.1657,  0.0800, -0.0031, -0.2405,\n",
              "                       -0.2709, -0.2958]])),\n",
              "             ('layer_three.bias',\n",
              "              tensor([ 0.1295, -0.1553, -0.0636, -0.1820, -0.0576, -0.2226, -0.2066,  0.1049,\n",
              "                      -0.0940,  0.1952])),\n",
              "             ('layer_four.weight',\n",
              "              tensor([[-0.1014, -0.2320, -0.0558, -0.1533, -0.0967, -0.3010,  0.1769, -0.2202,\n",
              "                        0.1589,  0.1435]])),\n",
              "             ('layer_four.bias', tensor([0.2259]))])"
            ]
          },
          "metadata": {},
          "execution_count": 85
        }
      ]
    },
    {
      "cell_type": "code",
      "source": [
        "device, next(model_0.parameters()).device"
      ],
      "metadata": {
        "id": "FSaFuyqh3P7x",
        "colab": {
          "base_uri": "https://localhost:8080/"
        },
        "outputId": "96bd74a4-e12d-4593-dd84-611887d91793"
      },
      "execution_count": 86,
      "outputs": [
        {
          "output_type": "execute_result",
          "data": {
            "text/plain": [
              "('cpu', device(type='cpu'))"
            ]
          },
          "metadata": {},
          "execution_count": 86
        }
      ]
    },
    {
      "cell_type": "code",
      "source": [
        "with torch.inference_mode():\n",
        "  untrained_preds = model_0(X_test.to(device))\n",
        "untrained_preds = model_0(X_test.to(device))\n",
        "print(f\"Length of predictions: {len(untrained_preds)}, Shape: {untrained_preds.shape}\")\n",
        "print(f\"Length of test samples: {len(y_test)}, Shape: {y_test.shape}\")\n",
        "print(f\"\\nFirst 10 predictions:\\n{untrained_preds[:10]}\")\n",
        "print(f\"\\nFirst 10 test labels:\\n{y_test[:10]}\")"
      ],
      "metadata": {
        "id": "EiqQYH3w3P9_",
        "colab": {
          "base_uri": "https://localhost:8080/"
        },
        "outputId": "8152c317-4d56-4716-ed7c-135392e22234"
      },
      "execution_count": 87,
      "outputs": [
        {
          "output_type": "stream",
          "name": "stdout",
          "text": [
            "Length of predictions: 200, Shape: torch.Size([200, 1])\n",
            "Length of test samples: 200, Shape: torch.Size([200])\n",
            "\n",
            "First 10 predictions:\n",
            "tensor([[0.3764],\n",
            "        [0.2860],\n",
            "        [0.4189],\n",
            "        [0.2727],\n",
            "        [0.4035],\n",
            "        [0.3933],\n",
            "        [0.3369],\n",
            "        [0.3572],\n",
            "        [0.4168],\n",
            "        [0.2915]], grad_fn=<SliceBackward0>)\n",
            "\n",
            "First 10 test labels:\n",
            "tensor([1., 0., 1., 0., 1., 1., 0., 0., 1., 0.])\n"
          ]
        }
      ]
    },
    {
      "cell_type": "code",
      "source": [
        "# Calculate accuracy (a classification metric)\n",
        "def accuracy_fn(y_true, y_pred):\n",
        "    correct = torch.eq(y_true, y_pred).sum().item() # torch.eq() calculates where two tensors are equal\n",
        "    acc = (correct / len(y_pred)) * 100\n",
        "    return acc"
      ],
      "metadata": {
        "id": "T7FxzdgoiaOw"
      },
      "execution_count": 88,
      "outputs": []
    },
    {
      "cell_type": "markdown",
      "source": [
        "###Train model\n",
        "- Forward Pass\n",
        "- Calc the loss\n",
        "- Zero gradients\n",
        "- Perform backpropagation on the loss\n",
        "- Ser the optimizer (gradient descent)\n",
        "\n",
        "\n",
        "###Going from raw model outputs to predicted labels (logits -> prediction probabilities -> prediction labels)\n"
      ],
      "metadata": {
        "id": "UBZwXiUAinm9"
      }
    },
    {
      "cell_type": "code",
      "source": [
        "model_0.eval()\n",
        "with torch.inference_mode():\n",
        "  y_logits = model_0(X_test.to(device))[:5]\n",
        "y_logits"
      ],
      "metadata": {
        "colab": {
          "base_uri": "https://localhost:8080/"
        },
        "id": "S2so-0CMiibl",
        "outputId": "8422c88e-b16f-4db1-8db3-d51478f1f4bf"
      },
      "execution_count": 89,
      "outputs": [
        {
          "output_type": "execute_result",
          "data": {
            "text/plain": [
              "tensor([[0.3764],\n",
              "        [0.2860],\n",
              "        [0.4189],\n",
              "        [0.2727],\n",
              "        [0.4035]])"
            ]
          },
          "metadata": {},
          "execution_count": 89
        }
      ]
    },
    {
      "cell_type": "code",
      "source": [
        "# Use sigmoid on model logits\n",
        "y_pred_probs = torch.sigmoid(y_logits)\n",
        "y_pred_probs"
      ],
      "metadata": {
        "colab": {
          "base_uri": "https://localhost:8080/"
        },
        "id": "FklDamc2iu49",
        "outputId": "40fe0d6d-a510-4438-9d2f-8d1d77d2fc57"
      },
      "execution_count": 90,
      "outputs": [
        {
          "output_type": "execute_result",
          "data": {
            "text/plain": [
              "tensor([[0.5930],\n",
              "        [0.5710],\n",
              "        [0.6032],\n",
              "        [0.5677],\n",
              "        [0.5995]])"
            ]
          },
          "metadata": {},
          "execution_count": 90
        }
      ]
    },
    {
      "cell_type": "code",
      "source": [
        "# Find the predicted labels (round the prediction probabilities)\n",
        "y_preds = torch.round(y_pred_probs)\n",
        "\n",
        "# In full\n",
        "y_pred_labels = torch.round(torch.sigmoid(model_0(X_test.to(device))[:5]))\n",
        "\n",
        "# Check for equality\n",
        "print(torch.eq(y_preds.squeeze(), y_pred_labels.squeeze()))\n",
        "\n",
        "# Get rid of extra dimension\n",
        "y_preds.squeeze()"
      ],
      "metadata": {
        "colab": {
          "base_uri": "https://localhost:8080/"
        },
        "id": "8B9De9ivjWld",
        "outputId": "e4f9eeda-1d9e-45e3-cd68-7e6327108672"
      },
      "execution_count": 91,
      "outputs": [
        {
          "output_type": "stream",
          "name": "stdout",
          "text": [
            "tensor([True, True, True, True, True])\n"
          ]
        },
        {
          "output_type": "execute_result",
          "data": {
            "text/plain": [
              "tensor([1., 1., 1., 1., 1.])"
            ]
          },
          "metadata": {},
          "execution_count": 91
        }
      ]
    },
    {
      "cell_type": "code",
      "source": [
        "loss_fn = nn.BCEWithLogitsLoss()\n",
        "\n",
        "optimizer = torch.optim.SGD(params=model_0.parameters(),lr=0.1)"
      ],
      "metadata": {
        "id": "jAaRsNfb3QAV"
      },
      "execution_count": 92,
      "outputs": []
    },
    {
      "cell_type": "code",
      "source": [
        "torch.manual_seed(42)\n",
        "\n",
        "# Set the number of epochs\n",
        "epochs = 1000\n",
        "\n",
        "# Put data to target device\n",
        "X_train, y_train = X_train.to(device), y_train.to(device)\n",
        "X_test, y_test = X_test.to(device), y_test.to(device)\n",
        "\n",
        "\n",
        "# Build training and evaluation loop\n",
        "for epoch in range(epochs):\n",
        "\n",
        "    ### Set Training Mode\n",
        "    model_0.train()\n",
        "\n",
        "    # 1. Forward pass (model outputs raw logits)\n",
        "    y_logits = model_0(X_train).squeeze() # squeeze to remove extra `1` dimensions, this won't work unless model and data are on same device\n",
        "    y_pred = torch.round(torch.sigmoid(y_logits)) # turn logits -> pred probs -> pred labls\n",
        "\n",
        "    # 2. Calculate loss/accuracy\n",
        "    # loss = loss_fn(torch.sigmoid(y_logits), # Using nn.BCELoss you need torch.sigmoid()\n",
        "    #                y_train)\n",
        "    loss = loss_fn(y_logits, # Using nn.BCEWithLogitsLoss works with raw logits\n",
        "                   y_train)\n",
        "\n",
        "    acc = accuracy_fn(y_true=y_train,\n",
        "                      y_pred=y_pred)\n",
        "\n",
        "    # 3. Optimizer zero grad\n",
        "    optimizer.zero_grad()\n",
        "\n",
        "    # 4. Loss backwards\n",
        "    loss.backward()\n",
        "\n",
        "    # 5. Optimizer step\n",
        "    optimizer.step()\n",
        "\n",
        "    ### Testing\n",
        "    model_0.eval()\n",
        "    with torch.inference_mode():\n",
        "        # 1. Forward pass\n",
        "        test_logits = model_0(X_test).squeeze()\n",
        "        test_pred = torch.round(torch.sigmoid(test_logits)) # sigmoid - creates preds probs\n",
        "        # 2. Caculate loss/accuracy\n",
        "        test_loss = loss_fn(test_logits,\n",
        "                            y_test)\n",
        "        test_acc = accuracy_fn(y_true=y_test,\n",
        "                               y_pred=test_pred)\n",
        "\n",
        "    # Print out what's happening every 10 epochs\n",
        "    if epoch % 100 == 0:\n",
        "        print(f\"Epoch: {epoch} | Loss: {loss:.5f}, Accuracy: {acc:.2f}% | Test loss: {test_loss:.5f}, Test acc: {test_acc:.2f}%\")"
      ],
      "metadata": {
        "colab": {
          "base_uri": "https://localhost:8080/"
        },
        "id": "2aECyl7kjbNX",
        "outputId": "7e7b6f03-55a3-4c95-e5cd-287e9806923e"
      },
      "execution_count": 93,
      "outputs": [
        {
          "output_type": "stream",
          "name": "stdout",
          "text": [
            "Epoch: 0 | Loss: 0.67743, Accuracy: 50.00% | Test loss: 0.67366, Test acc: 50.00%\n",
            "Epoch: 100 | Loss: 0.24496, Accuracy: 87.88% | Test loss: 0.25086, Test acc: 89.00%\n",
            "Epoch: 200 | Loss: 0.23735, Accuracy: 88.88% | Test loss: 0.23879, Test acc: 90.00%\n",
            "Epoch: 300 | Loss: 0.23731, Accuracy: 89.00% | Test loss: 0.23847, Test acc: 90.00%\n",
            "Epoch: 400 | Loss: 0.23731, Accuracy: 89.00% | Test loss: 0.23846, Test acc: 90.00%\n",
            "Epoch: 500 | Loss: 0.23731, Accuracy: 89.00% | Test loss: 0.23845, Test acc: 90.00%\n",
            "Epoch: 600 | Loss: 0.23731, Accuracy: 89.00% | Test loss: 0.23845, Test acc: 90.00%\n",
            "Epoch: 700 | Loss: 0.23731, Accuracy: 89.00% | Test loss: 0.23845, Test acc: 90.00%\n",
            "Epoch: 800 | Loss: 0.23731, Accuracy: 89.00% | Test loss: 0.23845, Test acc: 90.00%\n",
            "Epoch: 900 | Loss: 0.23731, Accuracy: 89.00% | Test loss: 0.23845, Test acc: 90.00%\n"
          ]
        }
      ]
    },
    {
      "cell_type": "code",
      "source": [
        "import requests\n",
        "from pathlib import Path\n",
        "\n",
        "# Download helper functions from Learn PyTorch repo (if not already downloaded)\n",
        "if Path(\"helper_functions.py\").is_file():\n",
        "  print(\"helper_functions.py already exists, skipping download\")\n",
        "else:\n",
        "  print(\"Downloading helper_functions.py\")\n",
        "  request = requests.get(\"https://raw.githubusercontent.com/mrdbourke/pytorch-deep-learning/main/helper_functions.py\")\n",
        "  with open(\"helper_functions.py\", \"wb\") as f:\n",
        "    f.write(request.content)\n",
        "\n",
        "from helper_functions import plot_predictions, plot_decision_boundary"
      ],
      "metadata": {
        "colab": {
          "base_uri": "https://localhost:8080/"
        },
        "id": "7qgF-SJ-jeDa",
        "outputId": "6d97b9b1-1a4e-4ba1-c2cd-fb5ea87af260"
      },
      "execution_count": 94,
      "outputs": [
        {
          "output_type": "stream",
          "name": "stdout",
          "text": [
            "helper_functions.py already exists, skipping download\n"
          ]
        }
      ]
    },
    {
      "cell_type": "code",
      "source": [
        "plot_decision_boundary(model_0,X_test, y_test)"
      ],
      "metadata": {
        "colab": {
          "base_uri": "https://localhost:8080/",
          "height": 430
        },
        "id": "Q2dJHiXimrBG",
        "outputId": "a7d75ad4-b44a-4c6b-fe00-29f1ca5fafa0"
      },
      "execution_count": 95,
      "outputs": [
        {
          "output_type": "display_data",
          "data": {
            "text/plain": [
              "<Figure size 640x480 with 1 Axes>"
            ],
            "image/png": "[encoded data removed]"
          },
          "metadata": {}
        }
      ]
    },
    {
      "cell_type": "code",
      "source": [
        "#https://ml-cheatsheet.readthedocs.io/en/latest/activation_functions.html#tanh\n",
        "import torch\n",
        "import matplotlib.pyplot as plt\n",
        "\n",
        "def custom_tanh(z):\n",
        "    return (torch.exp(z) - torch.exp(-z)) / (torch.exp(z) + torch.exp(-z))"
      ],
      "metadata": {
        "id": "QS7-l9zonNbP"
      },
      "execution_count": 96,
      "outputs": []
    },
    {
      "cell_type": "code",
      "source": [
        "A = torch.arange(-10, 10, 1, dtype=torch.float32)"
      ],
      "metadata": {
        "id": "LsdJqna7nNd1"
      },
      "execution_count": 97,
      "outputs": []
    },
    {
      "cell_type": "code",
      "source": [
        "plt.plot(custom_tanh(A))"
      ],
      "metadata": {
        "colab": {
          "base_uri": "https://localhost:8080/",
          "height": 447
        },
        "id": "UQSJu7DInNf7",
        "outputId": "41b89083-cf9b-42f5-9dbd-e65f1d1becf8"
      },
      "execution_count": 98,
      "outputs": [
        {
          "output_type": "execute_result",
          "data": {
            "text/plain": [
              "[<matplotlib.lines.Line2D at 0x7ebb7fe71330>]"
            ]
          },
          "metadata": {},
          "execution_count": 98
        },
        {
          "output_type": "display_data",
          "data": {
            "text/plain": [
              "<Figure size 640x480 with 1 Axes>"
            ],
            "image/png": "[encoded data removed]"
          },
          "metadata": {}
        }
      ]
    },
    {
      "cell_type": "code",
      "source": [
        "plt.plot(torch.tanh(A))"
      ],
      "metadata": {
        "colab": {
          "base_uri": "https://localhost:8080/",
          "height": 447
        },
        "id": "RuMTfoDSn54M",
        "outputId": "b106fbf8-e53a-456d-943b-f890b12c3f72"
      },
      "execution_count": 99,
      "outputs": [
        {
          "output_type": "execute_result",
          "data": {
            "text/plain": [
              "[<matplotlib.lines.Line2D at 0x7ebb7fd01360>]"
            ]
          },
          "metadata": {},
          "execution_count": 99
        },
        {
          "output_type": "display_data",
          "data": {
            "text/plain": [
              "<Figure size 640x480 with 1 Axes>"
            ],
            "image/png": "[encoded data removed]"
          },
          "metadata": {}
        }
      ]
    },
    {
      "cell_type": "code",
      "source": [
        "# Code for creating a spiral dataset from CS231n\n",
        "import numpy as np\n",
        "N = 100 # number of points per class\n",
        "D = 2 # dimensionality\n",
        "K = 3 # number of classes\n",
        "X = np.zeros((N*K,D)) # data matrix (each row = single example)\n",
        "y = np.zeros(N*K, dtype='uint8') # class labels\n",
        "for j in range(K):\n",
        "  ix = range(N*j,N*(j+1))\n",
        "  r = np.linspace(0.0,1,N) # radius\n",
        "  t = np.linspace(j*4,(j+1)*4,N) + np.random.randn(N)*0.2 # theta\n",
        "  X[ix] = np.c_[r*np.sin(t), r*np.cos(t)]\n",
        "  y[ix] = j\n",
        "# lets visualize the data\n",
        "plt.scatter(X[:, 0], X[:, 1], c=y, s=40, cmap=plt.cm.Spectral)\n",
        "plt.show()"
      ],
      "metadata": {
        "id": "8skj6kGeoTLz",
        "colab": {
          "base_uri": "https://localhost:8080/",
          "height": 430
        },
        "outputId": "1746aca1-6d63-4844-ffdf-cb0a3583c1d2"
      },
      "execution_count": 100,
      "outputs": [
        {
          "output_type": "display_data",
          "data": {
            "text/plain": [
              "<Figure size 640x480 with 1 Axes>"
            ],
            "image/png": "[encoded data removed]"
          },
          "metadata": {}
        }
      ]
    },
    {
      "cell_type": "code",
      "source": [
        "X_train, X_test, y_train, y_test = train_test_split(X,\n",
        "                                                    y,\n",
        "                                                    test_size=0.2, # 20% test, 80% train\n",
        "                                                    random_state=42) # make the random split reproducible\n",
        "\n",
        "len(X_train), len(X_test), len(y_train), len(y_test)"
      ],
      "metadata": {
        "colab": {
          "base_uri": "https://localhost:8080/"
        },
        "id": "zmpBd-ZwBe3c",
        "outputId": "4c918d53-d0b5-4b75-99dc-fa9e28517e96"
      },
      "execution_count": 101,
      "outputs": [
        {
          "output_type": "execute_result",
          "data": {
            "text/plain": [
              "(240, 60, 240, 60)"
            ]
          },
          "metadata": {},
          "execution_count": 101
        }
      ]
    },
    {
      "cell_type": "code",
      "source": [
        "from torch import nn\n",
        "\n",
        "# class BlobModel(nn.Module):\n",
        "#   def __init__(self, input_features, output_features, hidden_units=8):\n",
        "\n",
        "#     super().__init__()\n",
        "#     self.linear_layer_stack = nn.Sequential(\n",
        "#     nn.Linear(in_features=input_features, out_features=hidden_units),\n",
        "#     nn.ReLU(),\n",
        "#     nn.Linear(in_features=hidden_units, out_features=hidden_units),\n",
        "#     nn.ReLU(),\n",
        "#     nn.Linear(in_features=hidden_units, out_features=output_features), # how many classes are there?\n",
        "# )\n",
        "\n",
        "#   def forward(self, x):\n",
        "#         return self.linear_layer_stack(x)\n",
        "\n",
        "class warmUpModelv2(nn.Module):\n",
        "  def __init__(self):\n",
        "    super().__init__()\n",
        "\n",
        "    self.layer_one = nn.Linear(in_features=X.shape[1], out_features=10) # takes in 2 features (X), UPSCALES to 5 features\n",
        "    self.layer_two = nn.Linear(in_features=10, out_features=10) # takes in 2 features (X), UPSCALES to 5 features\n",
        "    self.layer_three = nn.Linear(in_features=10, out_features=10) # takes in 2 features (X), UPSCALES to 5 features\n",
        "    self.layer_four = nn.Linear(in_features=10, out_features=3) # takes in 5 features, produces 1 feature (y)\n",
        "    self.relu = nn.ReLU() # <- add in ReLU activation function\n",
        "\n",
        "  def forward(self,x):\n",
        "    return self.layer_four(self.relu(self.layer_three(self.relu(self.layer_two(self.relu(self.layer_one(x)))))))\n",
        "\n",
        "# 4. Create an instance of the model and send it to target device\n",
        "model_2 = warmUpModelv2().to(device)\n",
        "model_2.state_dict()"
      ],
      "metadata": {
        "id": "tRim4QZS3kQV",
        "colab": {
          "base_uri": "https://localhost:8080/"
        },
        "outputId": "45dafa30-4424-4fa4-8bd2-68b64edb6c08"
      },
      "execution_count": 102,
      "outputs": [
        {
          "output_type": "execute_result",
          "data": {
            "text/plain": [
              "OrderedDict([('layer_one.weight',\n",
              "              tensor([[ 0.5406,  0.5869],\n",
              "                      [-0.1657,  0.6496],\n",
              "                      [-0.1549,  0.1427],\n",
              "                      [-0.3443,  0.4153],\n",
              "                      [ 0.6233, -0.5188],\n",
              "                      [ 0.6146,  0.1323],\n",
              "                      [ 0.5224,  0.0958],\n",
              "                      [ 0.3410, -0.0998],\n",
              "                      [ 0.5451,  0.1045],\n",
              "                      [-0.3301,  0.1802]])),\n",
              "             ('layer_one.bias',\n",
              "              tensor([-0.3258, -0.0829, -0.2872,  0.4691, -0.5582, -0.3260, -0.1997, -0.4252,\n",
              "                       0.0667, -0.6984])),\n",
              "             ('layer_two.weight',\n",
              "              tensor([[ 0.2856, -0.2686,  0.2441,  0.0526, -0.1027,  0.1954,  0.0493,  0.2555,\n",
              "                        0.0346, -0.0997],\n",
              "                      [ 0.0850, -0.0858,  0.1331,  0.2823,  0.1828, -0.1382,  0.1825,  0.0566,\n",
              "                        0.1606, -0.1927],\n",
              "                      [-0.3130, -0.1222, -0.2426,  0.2595,  0.0911,  0.1310,  0.1000, -0.0055,\n",
              "                        0.2475, -0.2247],\n",
              "                      [ 0.0199, -0.2158,  0.0975, -0.1089,  0.0969, -0.0659,  0.2623, -0.1874,\n",
              "                       -0.1886, -0.1886],\n",
              "                      [ 0.2844,  0.1054,  0.3043, -0.2610, -0.3137, -0.2474, -0.2127,  0.1281,\n",
              "                        0.1132,  0.2628],\n",
              "                      [-0.1633, -0.2156,  0.1678, -0.1278,  0.1919, -0.0750,  0.1809, -0.2457,\n",
              "                       -0.1596,  0.0964],\n",
              "                      [ 0.0669, -0.0806,  0.1885,  0.2150, -0.2293, -0.1688,  0.2896, -0.1067,\n",
              "                       -0.1121, -0.3060],\n",
              "                      [-0.1811,  0.0790, -0.0417, -0.2295,  0.0074, -0.2160, -0.2683, -0.1741,\n",
              "                       -0.2768, -0.2014],\n",
              "                      [ 0.3161,  0.0597,  0.0974, -0.2949, -0.2077, -0.1053,  0.0494, -0.2783,\n",
              "                       -0.1363, -0.1893],\n",
              "                      [ 0.0009, -0.1177, -0.0219, -0.2143, -0.2171, -0.1845, -0.1082, -0.2496,\n",
              "                        0.2651, -0.0628]])),\n",
              "             ('layer_two.bias',\n",
              "              tensor([ 0.2721,  0.0985, -0.2678,  0.2188, -0.0870, -0.1212, -0.2625, -0.3144,\n",
              "                       0.0905, -0.0691])),\n",
              "             ('layer_three.weight',\n",
              "              tensor([[ 0.1231, -0.2595,  0.2348, -0.2321, -0.0546,  0.0661,  0.1633,  0.2553,\n",
              "                        0.2881, -0.2507],\n",
              "                      [ 0.0796, -0.1360, -0.0347, -0.2367,  0.2880, -0.2321,  0.1690,  0.1111,\n",
              "                        0.1028, -0.1710],\n",
              "                      [ 0.2874,  0.0695,  0.0407, -0.2787,  0.1327, -0.0474, -0.1449,  0.2716,\n",
              "                        0.0705, -0.1750],\n",
              "                      [-0.1601, -0.0151,  0.1766, -0.0808, -0.1804, -0.1083, -0.2362,  0.1128,\n",
              "                        0.2448, -0.2977],\n",
              "                      [ 0.0734,  0.1634,  0.0573, -0.1126,  0.1651,  0.1662,  0.1182, -0.0556,\n",
              "                       -0.0837,  0.0338],\n",
              "                      [-0.0559, -0.0942,  0.2021,  0.2718, -0.0313, -0.0708,  0.0046, -0.0189,\n",
              "                        0.0760,  0.0886],\n",
              "                      [-0.2872, -0.1167,  0.2663,  0.1232, -0.0157, -0.1907, -0.1935, -0.2833,\n",
              "                       -0.1031,  0.1068],\n",
              "                      [ 0.2016,  0.1460, -0.2795, -0.1902, -0.0499,  0.3059,  0.0457, -0.0819,\n",
              "                        0.1308, -0.1204],\n",
              "                      [-0.2047,  0.2308, -0.1438, -0.0634, -0.3146,  0.2116,  0.2396,  0.1152,\n",
              "                       -0.2205, -0.3121],\n",
              "                      [-0.2568,  0.2358,  0.1518,  0.2661,  0.1657,  0.0800, -0.0031, -0.2405,\n",
              "                       -0.2709, -0.2958]])),\n",
              "             ('layer_three.bias',\n",
              "              tensor([ 0.1295, -0.1553, -0.0636, -0.1820, -0.0576, -0.2226, -0.2066,  0.1049,\n",
              "                      -0.0940,  0.1952])),\n",
              "             ('layer_four.weight',\n",
              "              tensor([[-0.1014, -0.2320, -0.0558, -0.1533, -0.0967, -0.3010,  0.1769, -0.2202,\n",
              "                        0.1589,  0.1435],\n",
              "                      [ 0.2259, -0.2426,  0.2274, -0.1495,  0.1173,  0.2970, -0.0446, -0.0024,\n",
              "                       -0.0728, -0.2640],\n",
              "                      [ 0.1518, -0.3139,  0.1963,  0.2366,  0.2991, -0.0746, -0.2598,  0.0711,\n",
              "                        0.1747, -0.3147]])),\n",
              "             ('layer_four.bias', tensor([-0.0718, -0.1896, -0.0277]))])"
            ]
          },
          "metadata": {},
          "execution_count": 102
        }
      ]
    },
    {
      "cell_type": "code",
      "source": [
        "loss_fn_v2 = nn.CrossEntropyLoss() #nn.BCEWithLogitsLoss()\n",
        "\n",
        "optimizer_v2 = torch.optim.Adam(model_2.parameters(),\n",
        "                             lr=0.02) #torch.optim.SGD(params=model_0.parameters(),lr=0.1)"
      ],
      "metadata": {
        "id": "fFtk1cv83kTD"
      },
      "execution_count": 103,
      "outputs": []
    },
    {
      "cell_type": "code",
      "source": [
        "torch.manual_seed(42)\n",
        "\n",
        "# Set the number of epochs\n",
        "epochs = 1000\n",
        "\n",
        "# Convert numpy arrays to PyTorch tensors\n",
        "X_train = torch.tensor(X_train, dtype=torch.float32)  # Assuming your data is of float type\n",
        "# y_train = torch.tensor(y_train, dtype=torch.float32)  # Assuming your labels are of integer type\n",
        "X_test = torch.tensor(X_test, dtype=torch.float32)\n",
        "# y_test = torch.tensor(y_test, dtype=torch.float32)\n",
        "\n",
        "y_train = torch.tensor(y_train, dtype=torch.int64)  # Assuming your labels are of integer type (0, 1, or 2)\n",
        "y_test = torch.tensor(y_test, dtype=torch.int64)\n",
        "\n",
        "# Put data to target device\n",
        "X_train, y_train = X_train.to(device), y_train.to(device)\n",
        "X_test, y_test = X_test.to(device), y_test.to(device)\n",
        "\n",
        "\n",
        "# Build training and evaluation loop\n",
        "for epoch in range(epochs):\n",
        "\n",
        "    ### Set Training Mode\n",
        "    model_2.train()\n",
        "\n",
        "    # 1. Forward pass (model outputs raw logits)\n",
        "    y_logits = model_2(X_train) # squeeze to remove extra `1` dimensions, this won't work unless model and data are on same device\n",
        "    # y_pred = torch.round(torch.sigmoid(y_logits)) # turn logits -> pred probs -> pred labls\n",
        "\n",
        "    # 2. Calculate loss/accuracy\n",
        "    # loss = loss_fn(torch.sigmoid(y_logits), # Using nn.BCELoss you need torch.sigmoid()\n",
        "    #                y_train)\n",
        "    loss = loss_fn_v2(y_logits, # Using nn.BCEWithLogitsLoss works with raw logits\n",
        "                   y_train)\n",
        "\n",
        "    acc = accuracy_fn(y_true=y_train,\n",
        "                      y_pred=y_pred)\n",
        "\n",
        "    # 3. Optimizer zero grad\n",
        "    optimizer_v2.zero_grad()\n",
        "\n",
        "    # 4. Loss backwards\n",
        "    loss.backward()\n",
        "\n",
        "    # 5. Optimizer step\n",
        "    optimizer_v2.step()\n",
        "\n",
        "    ### Testing\n",
        "    model_2.eval()\n",
        "    with torch.inference_mode():\n",
        "        # 1. Forward pass\n",
        "        test_logits = model_2(X_test)\n",
        "        test_pred = torch.round(torch.sigmoid(test_logits)) # sigmoid - creates preds probs\n",
        "        # 2. Caculate loss/accuracy\n",
        "        test_loss = loss_fn_v2(test_logits,\n",
        "                            y_test)\n",
        "        test_acc = accuracy_fn(y_true=y_test,\n",
        "                               y_pred=test_pred)\n",
        "\n",
        "    # Print out what's happening every 10 epochs\n",
        "    if epoch % 100 == 0:\n",
        "        print(f\"Epoch: {epoch} | Loss: {loss:.5f}, Accuracy: {acc:.2f}% | Test loss: {test_loss:.5f}, Test acc: {test_acc:.2f}%\")"
      ],
      "metadata": {
        "id": "zDzxjLFy3kVI",
        "colab": {
          "base_uri": "https://localhost:8080/",
          "height": 367
        },
        "outputId": "b9775f36-8d9e-4f68-af6c-044f7944ba4b"
      },
      "execution_count": 104,
      "outputs": [
        {
          "output_type": "error",
          "ename": "RuntimeError",
          "evalue": "ignored",
          "traceback": [
            "\u001b[0;31m---------------------------------------------------------------------------\u001b[0m",
            "\u001b[0;31mRuntimeError\u001b[0m                              Traceback (most recent call last)",
            "\u001b[0;32m<ipython-input-104-9ea4aa6d99ac>\u001b[0m in \u001b[0;36m<cell line: 21>\u001b[0;34m()\u001b[0m\n\u001b[1;32m     34\u001b[0m                    y_train)\n\u001b[1;32m     35\u001b[0m \u001b[0;34m\u001b[0m\u001b[0m\n\u001b[0;32m---> 36\u001b[0;31m     acc = accuracy_fn(y_true=y_train,\n\u001b[0m\u001b[1;32m     37\u001b[0m                       y_pred=y_pred)\n\u001b[1;32m     38\u001b[0m \u001b[0;34m\u001b[0m\u001b[0m\n",
            "\u001b[0;32m<ipython-input-88-cdbbdc9cc26a>\u001b[0m in \u001b[0;36maccuracy_fn\u001b[0;34m(y_true, y_pred)\u001b[0m\n\u001b[1;32m      1\u001b[0m \u001b[0;31m# Calculate accuracy (a classification metric)\u001b[0m\u001b[0;34m\u001b[0m\u001b[0;34m\u001b[0m\u001b[0m\n\u001b[1;32m      2\u001b[0m \u001b[0;32mdef\u001b[0m \u001b[0maccuracy_fn\u001b[0m\u001b[0;34m(\u001b[0m\u001b[0my_true\u001b[0m\u001b[0;34m,\u001b[0m \u001b[0my_pred\u001b[0m\u001b[0;34m)\u001b[0m\u001b[0;34m:\u001b[0m\u001b[0;34m\u001b[0m\u001b[0;34m\u001b[0m\u001b[0m\n\u001b[0;32m----> 3\u001b[0;31m     \u001b[0mcorrect\u001b[0m \u001b[0;34m=\u001b[0m \u001b[0mtorch\u001b[0m\u001b[0;34m.\u001b[0m\u001b[0meq\u001b[0m\u001b[0;34m(\u001b[0m\u001b[0my_true\u001b[0m\u001b[0;34m,\u001b[0m \u001b[0my_pred\u001b[0m\u001b[0;34m)\u001b[0m\u001b[0;34m.\u001b[0m\u001b[0msum\u001b[0m\u001b[0;34m(\u001b[0m\u001b[0;34m)\u001b[0m\u001b[0;34m.\u001b[0m\u001b[0mitem\u001b[0m\u001b[0;34m(\u001b[0m\u001b[0;34m)\u001b[0m \u001b[0;31m# torch.eq() calculates where two tensors are equal\u001b[0m\u001b[0;34m\u001b[0m\u001b[0;34m\u001b[0m\u001b[0m\n\u001b[0m\u001b[1;32m      4\u001b[0m     \u001b[0macc\u001b[0m \u001b[0;34m=\u001b[0m \u001b[0;34m(\u001b[0m\u001b[0mcorrect\u001b[0m \u001b[0;34m/\u001b[0m \u001b[0mlen\u001b[0m\u001b[0;34m(\u001b[0m\u001b[0my_pred\u001b[0m\u001b[0;34m)\u001b[0m\u001b[0;34m)\u001b[0m \u001b[0;34m*\u001b[0m \u001b[0;36m100\u001b[0m\u001b[0;34m\u001b[0m\u001b[0;34m\u001b[0m\u001b[0m\n\u001b[1;32m      5\u001b[0m     \u001b[0;32mreturn\u001b[0m \u001b[0macc\u001b[0m\u001b[0;34m\u001b[0m\u001b[0;34m\u001b[0m\u001b[0m\n",
            "\u001b[0;31mRuntimeError\u001b[0m: The size of tensor a (240) must match the size of tensor b (800) at non-singleton dimension 0"
          ]
        }
      ]
    },
    {
      "cell_type": "code",
      "source": [],
      "metadata": {
        "id": "DKO5ew8zUBlj"
      },
      "execution_count": null,
      "outputs": []
    },
    {
      "cell_type": "code",
      "source": [],
      "metadata": {
        "id": "xLIVu1vYUB0x"
      },
      "execution_count": null,
      "outputs": []
    },
    {
      "cell_type": "code",
      "source": [],
      "metadata": {
        "id": "XdhEaVTv3kXo"
      },
      "execution_count": null,
      "outputs": []
    }
  ]
}